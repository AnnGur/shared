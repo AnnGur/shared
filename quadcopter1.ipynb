{
 "cells": [
  {
   "cell_type": "markdown",
   "id": "768f192c-e92b-4817-a9c4-9e9cb8bc82a1",
   "metadata": {
    "editable": true,
    "slideshow": {
     "slide_type": ""
    },
    "tags": []
   },
   "source": [
    "<hr>\n",
    "<center> Learning Element for Control Systems - Autumn Semester 2024 <br>\n",
    "<b> Learning Element 1: Solution </b> <br>\n",
    "Prof. Dr. Florian Dörfler <br>\n",
    "Automatic Control Laboratory, ETH Zurich </center>\n",
    "<hr>"
   ]
  },
  {
   "cell_type": "markdown",
   "id": "6f3f9b55-a4d4-4746-9f92-f28dfbdbf248",
   "metadata": {},
   "source": [
    "In this notebook, you will find different code fragments to complete Learning Element 1. <b>"
   ]
  },
  {
   "cell_type": "markdown",
   "id": "fd0a15ac-5205-4644-b8c2-17fa3536eb0b",
   "metadata": {},
   "source": [
    "<!-- <blockquote> -->\n",
    "<b>Activity:</b> Execute the code cells below so that the necessary libraries get imported.\n",
    "<!-- </blockquote> -->"
   ]
  },
  {
   "cell_type": "code",
   "execution_count": 2,
   "id": "680e4529-3183-4bab-a868-30096d0590e2",
   "metadata": {
    "tags": []
   },
   "outputs": [],
   "source": [
    "import numpy as np # the standard library for numerics, vectors, matrices\n",
    "import control as ct # the standard library for basic operations for analysis and design of feedback control systems\n",
    "import matplotlib.pyplot as plt # a comprehensive library for creating static, animated, and interactive visualizations\n",
    "import sympy as sp # the standard library for symbolic mathematical computations"
   ]
  },
  {
   "cell_type": "markdown",
   "id": "5da15b00-a798-40fb-99ed-19f9df08e438",
   "metadata": {},
   "source": [
    "<br>"
   ]
  },
  {
   "cell_type": "markdown",
   "id": "335b192d-e573-4b8d-b5a7-83c1e548497e",
   "metadata": {},
   "source": [
    "<b> Code fragment for T1.1-i) linearization </b>"
   ]
  },
  {
   "cell_type": "code",
   "execution_count": 63,
   "id": "0b5c1c03-1f7f-478f-946c-8499d761bfed",
   "metadata": {
    "editable": true,
    "slideshow": {
     "slide_type": ""
    },
    "tags": []
   },
   "outputs": [
    {
     "name": "stdout",
     "output_type": "stream",
     "text": [
      "The system matrix A : \n",
      "⎡0  0  0    1       0     0      0         0      0    0      0      0  ⎤\n",
      "⎢                                                                       ⎥\n",
      "⎢0  0  0    0       1     0      0         0      0    0      0      0  ⎥\n",
      "⎢                                                                       ⎥\n",
      "⎢0  0  0    0       0     1      0         0      0    0      0      0  ⎥\n",
      "⎢                                                                       ⎥\n",
      "⎢0  0  0  -0.015    0     0  4.905⋅√2   4.905⋅√2  0    0      0      0  ⎥\n",
      "⎢                                                                       ⎥\n",
      "⎢0  0  0    0     -0.015  0  -4.905⋅√2  4.905⋅√2  0    0      0      0  ⎥\n",
      "⎢                                                                       ⎥\n",
      "⎢0  0  0    0     -0.015  0      0         0      0    0      0      0  ⎥\n",
      "⎢                                                                       ⎥\n",
      "⎢0  0  0    0       0     0      0         0      0    1      0      0  ⎥\n",
      "⎢                                                                       ⎥\n",
      "⎢0  0  0    0       0     0      0         0      0    0      1      0  ⎥\n",
      "⎢                                                                       ⎥\n",
      "⎢0  0  0    0       0     0      0         0      0    0      0      1  ⎥\n",
      "⎢                                                                       ⎥\n",
      "⎢0  0  0    0       0     0      0         0      0  -30.0    0      0  ⎥\n",
      "⎢                                                                       ⎥\n",
      "⎢0  0  0    0       0     0      0         0      0    0    -30.0    0  ⎥\n",
      "⎢                                                                       ⎥\n",
      "⎣0  0  0    0       0     0      0         0      0    0      0    -15.0⎦\n",
      "\n",
      "The system matrix B :\n",
      "⎡       0                 0                 0                 0        ⎤\n",
      "⎢                                                                      ⎥\n",
      "⎢       0                 0                 0                 0        ⎥\n",
      "⎢                                                                      ⎥\n",
      "⎢       0                 0                 0                 0        ⎥\n",
      "⎢                                                                      ⎥\n",
      "⎢       0                 0                 0                 0        ⎥\n",
      "⎢                                                                      ⎥\n",
      "⎢       0                 0                 0                 0        ⎥\n",
      "⎢                                                                      ⎥\n",
      "⎢3.33333333333333         0                 0                 0        ⎥\n",
      "⎢                                                                      ⎥\n",
      "⎢       0                 0                 0                 0        ⎥\n",
      "⎢                                                                      ⎥\n",
      "⎢       0                 0                 0                 0        ⎥\n",
      "⎢                                                                      ⎥\n",
      "⎢       0                 0                 0                 0        ⎥\n",
      "⎢                                                                      ⎥\n",
      "⎢       0          66666.6666666667         0                 0        ⎥\n",
      "⎢                                                                      ⎥\n",
      "⎢       0                 0          66666.6666666667         0        ⎥\n",
      "⎢                                                                      ⎥\n",
      "⎣       0                 0                 0          33333.3333333333⎦\n"
     ]
    }
   ],
   "source": [
    "# define symbolic variables\n",
    "x, y, z, xdot, ydot, zdot, phi, theta, psi, p, q, r = sp.symbols('x, y, z, xdot, ydot, zdot, phi, theta, psi, p, q, r')\n",
    "u1,u2,u3,u4, = sp.symbols('u1, u2, u3, u4')\n",
    "m, g, Ix, Iy, Iz, kx, ky, kz, kp, kq, kr = sp.symbols('m, g, Ix, Iy, Iz, kx, ky, kz, kp, kq, kr')\n",
    "xd, yd, zd, psid = sp.symbols('xd, yd, zd, psid')\n",
    "\n",
    "# define symbolic state, input & equilibrium vector\n",
    "states = sp.Array([[x], [y], [z], [xdot], [ydot], [zdot], [phi], [theta], [psi], [p], [q], [r]])\n",
    "inputs = sp.Array([[u1], [u2], [u3], [u4]])\n",
    "\n",
    "# nonlinear model\n",
    "xddot = 1/m*((sp.cos(phi)*sp.sin(theta)*sp.cos(psi) + sp.sin(phi)*sp.sin(psi))*u1 - kx*xdot)\n",
    "yddot = 1/m*((sp.cos(phi)*sp.sin(theta)*sp.sin(psi) - sp.sin(phi)*sp.cos(psi))*u1 - ky*ydot)\n",
    "zddot = 1/m*(sp.cos(phi)*sp.cos(theta)*u1 - m*g - kz*ydot)\n",
    "phidot = p + sp.sin(phi)*sp.tan(theta)*q + sp.cos(phi)*sp.tan(theta)*r\n",
    "thetadot = sp.cos(phi)*q - sp.sin(phi)*r\n",
    "psidot = sp.sin(phi)/sp.cos(theta)*q + sp.cos(phi)/sp.cos(theta)*r\n",
    "pdot = 1/Ix*((Iy - Iz)*q*r + u2 - kp*p)\n",
    "qdot = 1/Iy*((Iz - Ix)*p*r + u3 - kq*q)\n",
    "rdot = 1/Iz*((Ix - Iy)*p*q + u4 - kr*r)\n",
    "\n",
    "drone = sp.Matrix([[xdot],[ydot],[zdot],[xddot],[yddot],[zddot],[phidot],[thetadot],[psidot],[pdot],[qdot],[rdot]])\n",
    "\n",
    "# sp.pprint(drone)             \n",
    "                   \n",
    "# compute symbolic state-space matrices\n",
    "A_jacobain = drone.jacobian(states)\n",
    "B_jacobain = drone.jacobian(inputs)\n",
    "\n",
    "# sp.pprint(A_jacobain)        \n",
    "# sp.pprint(A_jacobain)\n",
    "\n",
    "# compute numeric state-space matrices with dtype float\n",
    "eq_dict = {x:xd, y:yd, z:zd, \n",
    "           xdot:0, ydot:0, zdot:0, \n",
    "           phi:0, theta:0, psi:psid, \n",
    "           p:0, q:0, r:0, \n",
    "           u1:m*g, u2:0, u3:0, u4:0}\n",
    "\n",
    "A_linearized = A_jacobain.subs(eq_dict)\n",
    "B_linearized = B_jacobain.subs(eq_dict)\n",
    "\n",
    "constants = {'xd':1, 'yd':1, 'zd':1,\n",
    "             'psid':sp.pi/4, 'm':0.3, 'g':9.81, \n",
    "             'kx':4.5e-3, 'ky':4.5e-3, 'kz':4.5e-3, \n",
    "             'kp':4.5e-4, 'kq':4.5e-4, 'kr':4.5e-4, \n",
    "             'Ix':1.5e-5,'Iy':1.5e-5,'Iz':3e-5}\n",
    "\n",
    "A = A_linearized.subs(constants)\n",
    "B = B_linearized.subs(constants)\n",
    "\n",
    "C = [[1,0,0,0,0,0,0,0,0,0,0,0],\n",
    "     [0,1,0,0,0,0,0,0,0,0,0,0],\n",
    "     [0,0,1,0,0,0,0,0,0,0,0,0],\n",
    "     [0,0,0,0,0,0,1,0,0,0,0,0]]\n",
    "D = [[0,0,0,0],\n",
    "    [0,0,0,0],\n",
    "    [0,0,0,0],\n",
    "    [0,0,0,0]]\n",
    "\n",
    "\n",
    "# print system matrices A, B\n",
    "np.set_printoptions(precision=4,suppress=True,linewidth=np.inf)\n",
    "print('The system matrix A : ')\n",
    "sp.pprint(A)\n",
    "print('\\nThe system matrix B :')\n",
    "sp.pprint(B)"
   ]
  },
  {
   "cell_type": "markdown",
   "id": "8e7d0174-9206-447d-8cf1-30915844bab7",
   "metadata": {},
   "source": [
    "<br>"
   ]
  },
  {
   "cell_type": "markdown",
   "id": "fd3a7bb8-9e18-436b-86b9-7da031a0aa16",
   "metadata": {},
   "source": [
    "<b> Code fragment for T1.1-ii) calculating transfer functions </b>"
   ]
  },
  {
   "cell_type": "code",
   "execution_count": 70,
   "id": "136faa8a-4891-45f8-84a1-31991feb5aa4",
   "metadata": {
    "tags": []
   },
   "outputs": [
    {
     "data": {
      "text/latex": [
       "$$\\begin{bmatrix}\\frac{0}{1}&\\frac{4.624 \\times 10^{5} s}{s^5 + 30.02 s^4 + 0.45 s^3 + 5.612 \\times 10^{-16} s^2}&\\frac{2.453 \\times 10^{-13} s^2 + 4.624 \\times 10^{5} s}{s^5 + 30.02 s^4 + 0.45 s^3 + 5.612 \\times 10^{-16} s^2}&\\frac{-3.869 \\times 10^{-30} s}{s^5 + 30.02 s^4 + 0.45 s^3 + 5.612 \\times 10^{-16} s^2}\\\\\\frac{0}{1}&\\frac{-4.624 \\times 10^{5} s}{s^5 + 30.02 s^4 + 0.45 s^3 + 1.919 \\times 10^{-15} s^2}&\\frac{8.178 \\times 10^{-14} s^2 + 4.624 \\times 10^{5} s}{s^5 + 30.02 s^4 + 0.45 s^3 + 1.919 \\times 10^{-15} s^2}&\\frac{9.906 \\times 10^{-28} s}{s^5 + 30.02 s^4 + 0.45 s^3 + 1.919 \\times 10^{-15} s^2}\\\\\\frac{3.333 s^3 + 100.1 s^2 + 1.5 s - 2.513 \\times 10^{-34}}{s^5 + 30.02 s^4 + 0.45 s^3 - 7.538 \\times 10^{-35} s^2}&\\frac{6937}{s^5 + 30.02 s^4 + 0.45 s^3 - 7.538 \\times 10^{-35} s^2}&\\frac{-6937}{s^5 + 30.02 s^4 + 0.45 s^3 - 7.538 \\times 10^{-35} s^2}&\\frac{-6.133 \\times 10^{-16} s - 9.2 \\times 10^{-15}}{s^5 + 30.02 s^4 + 0.45 s^3 - 7.538 \\times 10^{-35} s^2}\\\\\\frac{0}{1}&\\frac{6.667 \\times 10^{4} s^3}{s^5 + 30 s^4}&\\frac{0}{1}&\\frac{0}{1}\\\\ \\end{bmatrix}$$"
      ],
      "text/plain": [
       "TransferFunction([[array([0.]), array([462447.8349,      0.    ]), array([     0.    , 462447.8349,      0.    ]), array([-0.,  0.])], [array([0.]), array([-462447.8349,       0.    ]), array([     0.    , 462447.8349,      0.    ]), array([0., 0.])], [array([  3.3333, 100.05  ,   1.5   ,  -0.    ]), array([6936.7175]), array([-6936.7175]), array([-0., -0.])], [array([0.]), array([66666.6667,     0.    ,     0.    ,     0.    ]), array([0.]), array([0.])]], [[array([1.]), array([ 1.   , 30.015,  0.45 ,  0.   ,  0.   ,  0.   ]), array([ 1.   , 30.015,  0.45 ,  0.   ,  0.   ,  0.   ]), array([ 1.   , 30.015,  0.45 ,  0.   ,  0.   ,  0.   ])], [array([1.]), array([ 1.   , 30.015,  0.45 ,  0.   ,  0.   ,  0.   ]), array([ 1.   , 30.015,  0.45 ,  0.   ,  0.   ,  0.   ]), array([ 1.   , 30.015,  0.45 ,  0.   ,  0.   ,  0.   ])], [array([ 1.   , 30.015,  0.45 , -0.   ,  0.   ,  0.   ]), array([ 1.   , 30.015,  0.45 , -0.   ,  0.   ,  0.   ]), array([ 1.   , 30.015,  0.45 , -0.   ,  0.   ,  0.   ]), array([ 1.   , 30.015,  0.45 , -0.   ,  0.   ,  0.   ])], [array([1.]), array([ 1., 30.,  0.,  0.,  0.,  0.]), array([1.]), array([1.])]])"
      ]
     },
     "execution_count": 70,
     "metadata": {},
     "output_type": "execute_result"
    }
   ],
   "source": [
    "# create state-space system & transfer function\n",
    "sys2_ss = ct.ss(A,B,C,D) # create a state-space object\n",
    "tf = ct.ss2tf(sys2_ss) # create transfer function\n",
    "\n",
    "sys2_ss\n",
    "tf"
   ]
  },
  {
   "cell_type": "markdown",
   "id": "759a9232-4471-4cfb-98f8-4319780df9b4",
   "metadata": {},
   "source": [
    "<br>"
   ]
  },
  {
   "cell_type": "markdown",
   "id": "08498593-892d-4118-83aa-c1d6549abd01",
   "metadata": {},
   "source": [
    "<b> Code fragment for T1.2 stability analysis </b>"
   ]
  },
  {
   "cell_type": "code",
   "execution_count": 65,
   "id": "12ad0624-69fa-461a-999a-8570e2a6cb24",
   "metadata": {
    "tags": []
   },
   "outputs": [
    {
     "name": "stdout",
     "output_type": "stream",
     "text": [
      " [[  0.       0.       0.       1.       0.       0.       0.       0.       0\n",
      "  [  0.       0.       0.       0.       1.       0.       0.       0.       0\n",
      "  [  0.       0.       0.       0.       0.       1.       0.       0.       0\n",
      "  [  0.       0.       0.      -0.015    0.       0.       6.9367   6.9367   0\n",
      "  [  0.       0.       0.       0.      -0.015    0.      -6.9367   6.9367   0\n",
      "  [  0.       0.       0.       0.      -0.015    0.       0.       0.       0\n",
      "  [  0.       0.       0.       0.       0.       0.       0.       0.       0\n",
      "  [  0.       0.       0.       0.       0.       0.       0.       0.       0\n",
      "  [  0.       0.       0.       0.       0.       0.       0.       0.       0\n",
      "  [  0.       0.       0.       0.       0.       0.       0.       0.       0\n",
      "  [  0.       0.       0.       0.       0.       0.       0.       0.       0\n",
      " [  0.       0.       0.       0.       0.       0.       0.       0.       0.\n",
      "\n",
      ".       0.       0.       0.    ]\n",
      ".       0.       0.       0.    ]\n",
      ".       0.       0.       0.    ]\n",
      ".       0.       0.       0.    ]\n",
      ".       0.       0.       0.    ]\n",
      ".       0.       0.       0.    ]\n",
      ".       1.       0.       0.    ]\n",
      ".       0.       1.       0.    ]\n",
      ".       0.       0.       1.    ]\n",
      ".     -30.       0.       0.    ]\n",
      ".       0.     -30.       0.    ]\n",
      "       0.       0.     -15.    ]]\n",
      "eigenvalues :  [  0.      0.      0.     -0.015   0.     -0.015   0.      0.      0.    -30.    -30.    -15.   ]\n",
      "\n",
      "Jordan form: \n",
      "⎡⎡-0.000257043985824024  -0.000257043985824024           0           -66.66666\n",
      "⎢⎢                                                                            \n",
      "⎢⎢0.000257043985824024   -0.000257043985824024           0                   0\n",
      "⎢⎢                                                                            \n",
      "⎢⎢ 1.28521992912012e-7   -1.28521992912012e-7            0                   0\n",
      "⎢⎢                                                                            \n",
      "⎢⎢ 0.00771131957472073    0.00771131957472073            0                  1.\n",
      "⎢⎢                                                                            \n",
      "⎢⎢-0.00771131957472073    0.00771131957472073            0                   0\n",
      "⎢⎢                                                                            \n",
      "⎢⎢-3.85565978736036e-6    3.85565978736036e-6            0                   0\n",
      "⎢⎢                                                                            \n",
      "⎢⎢ -0.0333333333333333             0                     0                   0\n",
      "⎢⎢                                                                            \n",
      "⎢⎢          0             -0.0333333333333333            0                   0\n",
      "⎢⎢                                                                            \n",
      "⎢⎢          0                      0            -0.0666666666666667          0\n",
      "⎢⎢                                                                            \n",
      "⎢⎢         1.0                     0                     0                   0\n",
      "⎢⎢                                                                            \n",
      "⎢⎢          0                     1.0                    0                   0\n",
      "⎢⎢                                                                            \n",
      "⎣⎣          0                      0                    1.0                  0\n",
      "\n",
      "66666667          0                 0          462.447834896002           0   \n",
      "                                                                              \n",
      "          -66.6666666666667         0          -462.447834896002          0   \n",
      "                                                                              \n",
      "          -66.6666666666667  6.93671752344003          0                  0   \n",
      "                                                                              \n",
      "0                 0                 0                  0          462.44783489\n",
      "                                                                              \n",
      "                 1.0                0                  0          -462.4478348\n",
      "                                                                              \n",
      "                 1.0                0          6.93671752344003           0   \n",
      "                                                                              \n",
      "                  0                 0                  0                 1.0  \n",
      "                                                                              \n",
      "                  0                 0                  0                  0   \n",
      "                                                                              \n",
      "                  0                 0                  0                  0   \n",
      "                                                                              \n",
      "                  0                 0                  0                  0   \n",
      "                                                                              \n",
      "                  0                 0                  0                  0   \n",
      "                                                                              \n",
      "                  0                 0                  0                  0   \n",
      "\n",
      "       924.895669792004         0           0    0 ⎤  ⎡-30.0    0      0      \n",
      "                                                   ⎥  ⎢                       \n",
      "              0                 0          1.0   0 ⎥  ⎢  0    -30.0    0      \n",
      "                                                   ⎥  ⎢                       \n",
      "              0                 0           0    0 ⎥  ⎢  0      0    -15.0    \n",
      "                                                   ⎥  ⎢                       \n",
      "6002          0          924.895669792004   0    0 ⎥  ⎢  0      0      0    -0\n",
      "                                                   ⎥  ⎢                       \n",
      "96002         0                 0           0    0 ⎥  ⎢  0      0      0      \n",
      "                                                   ⎥  ⎢                       \n",
      "              0                 0           0    0 ⎥  ⎢  0      0      0      \n",
      "                                                   ⎥, ⎢                       \n",
      "              0                1.0          0    0 ⎥  ⎢  0      0      0      \n",
      "                                                   ⎥  ⎢                       \n",
      "              0                1.0          0    0 ⎥  ⎢  0      0      0      \n",
      "                                                   ⎥  ⎢                       \n",
      "              0                 0           0   1.0⎥  ⎢  0      0      0      \n",
      "                                                   ⎥  ⎢                       \n",
      "              0                 0           0    0 ⎥  ⎢  0      0      0      \n",
      "                                                   ⎥  ⎢                       \n",
      "              0                 0           0    0 ⎥  ⎢  0      0      0      \n",
      "                                                   ⎥  ⎢                       \n",
      "              0                 0           0    0 ⎦  ⎣  0      0      0      \n",
      "\n",
      "0       0     0   0    0   0   0   0  0⎤⎤\n",
      "                                       ⎥⎥\n",
      "0       0     0   0    0   0   0   0  0⎥⎥\n",
      "                                       ⎥⎥\n",
      "0       0     0   0    0   0   0   0  0⎥⎥\n",
      "                                       ⎥⎥\n",
      ".015    0     0   0    0   0   0   0  0⎥⎥\n",
      "                                       ⎥⎥\n",
      "0     -0.015  0   0    0   0   0   0  0⎥⎥\n",
      "                                       ⎥⎥\n",
      "0       0     0  1.0   0   0   0   0  0⎥⎥\n",
      "                                       ⎥⎥\n",
      "0       0     0   0   1.0  0   0   0  0⎥⎥\n",
      "                                       ⎥⎥\n",
      "0       0     0   0    0   0   0   0  0⎥⎥\n",
      "                                       ⎥⎥\n",
      "0       0     0   0    0   0  1.0  0  0⎥⎥\n",
      "                                       ⎥⎥\n",
      "0       0     0   0    0   0   0   0  0⎥⎥\n",
      "                                       ⎥⎥\n",
      "0       0     0   0    0   0   0   0  0⎥⎥\n",
      "                                       ⎥⎥\n",
      "0       0     0   0    0   0   0   0  0⎦⎦\n"
     ]
    }
   ],
   "source": [
    "# compute eigenvalues\n",
    "A = np.array(A).astype(float)\n",
    "eigen_values = np.linalg.eigvals(A)\n",
    "\n",
    "print('eigenvalues : ', eigen_values)\n",
    "\n",
    "# compute Jordan form\n",
    "# Hint: To compute the Jordan form of the matrix M, use the command 'M.jordan_form()', which can only be applied if M is a Sympy matrix.\n",
    "A_jordan = sp.Matrix(A).jordan_form()\n",
    "print('\\nJordan form: ')\n",
    "sp.pprint(A_jordan)"
   ]
  },
  {
   "cell_type": "markdown",
   "id": "d2fadc82-dce7-474c-9ce3-952d014d5919",
   "metadata": {},
   "source": [
    "<br>"
   ]
  },
  {
   "cell_type": "markdown",
   "id": "9de51224-3b84-4e3c-b4f1-de99382fb086",
   "metadata": {},
   "source": [
    "<b> Code fragment for T1.3 forced responses </b>"
   ]
  },
  {
   "cell_type": "code",
   "execution_count": null,
   "id": "afbbff01-8bb9-4eda-8af0-0cb7bbfd0130",
   "metadata": {
    "tags": []
   },
   "outputs": [],
   "source": [
    "# extracting the rolling dynamics\n",
    "A_rolling = ...\n",
    "B_rolling = ...\n",
    "C_rolling = ...\n",
    "D_rolling = ...\n",
    "sys_rolling = ...\n",
    "\n",
    "# plot impulse response\n",
    "t_impulse,y_impulse = ...\n",
    "\n",
    "# plot step response\n",
    "t_step,y_step = ...\n",
    "\n",
    "# plot sinusoidal response\n",
    "t_sin,y_sin = ...\n",
    "\n",
    "# show the final value of the impulse response\n",
    "print('The final value of the the rolling steady-state error in the impulsive input case is %.5f' % y_impulse[-1])"
   ]
  },
  {
   "cell_type": "markdown",
   "id": "1152c0a9-ed5a-40ff-9288-704abcb3e49c",
   "metadata": {},
   "source": [
    "<br>"
   ]
  },
  {
   "cell_type": "markdown",
   "id": "3172b67a-593a-4e4c-9a63-419ff611e9f6",
   "metadata": {},
   "source": [
    "<b> Code fragment for T1.4 proportional control </b>"
   ]
  },
  {
   "cell_type": "code",
   "execution_count": null,
   "id": "e7fb6124-63aa-4527-a09d-9eb12956b630",
   "metadata": {
    "editable": true,
    "slideshow": {
     "slide_type": ""
    },
    "tags": []
   },
   "outputs": [],
   "source": [
    "def proportional_control(A,B,C,D,k):\n",
    "    # A,B,C,D: system matrices; k: feedback gain\n",
    "    # extracting the rolling dynamics\n",
    "    A_rolling = ...\n",
    "    B_rolling = ...\n",
    "    ...\n",
    "    A_rolling_closed_loop = ...\n",
    "\n",
    "    print(\"\\n When the gain k is %.3f, the results are as follows.\" % k)\n",
    "        \n",
    "    # Bode plot\n",
    "    ...\n",
    "    \n",
    "    # initial condition response\n",
    "    t_pc, y_pc = ...\n",
    "\n",
    "    \n",
    "# normal case \n",
    "proportional_control(A,B,C,D,...)\n",
    "# choose a stabilizing gain\n",
    "...\n",
    "# choose a non-stabilizing gain\n",
    "..."
   ]
  }
 ],
 "metadata": {
  "kernelspec": {
   "display_name": "Python 3 (ipykernel)",
   "language": "python",
   "name": "python3"
  },
  "language_info": {
   "codemirror_mode": {
    "name": "ipython",
    "version": 3
   },
   "file_extension": ".py",
   "mimetype": "text/x-python",
   "name": "python",
   "nbconvert_exporter": "python",
   "pygments_lexer": "ipython3",
   "version": "3.9.13"
  }
 },
 "nbformat": 4,
 "nbformat_minor": 5
}
